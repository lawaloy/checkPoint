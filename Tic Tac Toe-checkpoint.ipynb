{
 "cells": [
  {
   "cell_type": "code",
   "execution_count": 2,
   "metadata": {},
   "outputs": [
    {
     "name": "stdout",
     "output_type": "stream",
     "text": [
      "   |   |\n",
      " X | O | X\n",
      "   |   |\n",
      "-----------\n",
      "   |   |\n",
      " O | X | O\n",
      "   |   |\n",
      "-----------\n",
      "   |   |\n",
      " X | O | X\n",
      "   |   |\n"
     ]
    }
   ],
   "source": [
    "from IPython.display import clear_output\n",
    "import random\n",
    "def display_board(board):\n",
    "    clear_output()\n",
    "    #clear_output only works in Jupiter Notebook, you can use print('\\n' *100) in other IDE\n",
    "    print ('   |   |')\n",
    "    print (' ' + board[7] + ' | ' + board[8] + ' | ' + board[9])\n",
    "    print ('   |   |')\n",
    "    print ('-----------')\n",
    "    print ('   |   |')\n",
    "    print (' ' + board[4] + ' | ' + board[5] + ' | ' + board[6])\n",
    "    print ('   |   |')\n",
    "    print ('-----------')\n",
    "    print ('   |   |')\n",
    "    print (' ' + board[1] + ' | ' + board[2] + ' | ' + board[3])\n",
    "    print ('   |   |')\n",
    "run_board = ['#','X','O','X','O','X','O','X','O','X']\n",
    "display_board(run_board)\n",
    "#In this cell, I decided to write a function that print out a board, set the board as a list, test the board, and note that the index usually starts from 0, so i used # as my index zero and make my numbers from 1 to 9 representing a 3x3 tic-tac board."
   ]
  },
  {
   "cell_type": "code",
   "execution_count": 3,
   "metadata": {},
   "outputs": [
    {
     "name": "stdout",
     "output_type": "stream",
     "text": [
      "first_player: Do you want to be 'X' or 'O'? o\n"
     ]
    },
    {
     "data": {
      "text/plain": [
       "('O', 'X')"
      ]
     },
     "execution_count": 3,
     "metadata": {},
     "output_type": "execute_result"
    }
   ],
   "source": [
    "def player_input():\n",
    "    cursor = ''\n",
    "    while not (cursor =='X' or cursor == 'O'):\n",
    "        cursor = input (\"first_player: Do you want to be 'X' or 'O'? \").upper()\n",
    "    if cursor == 'X':\n",
    "        return ('X','O')\n",
    "    else:\n",
    "        if cursor == 'O':\n",
    "            return ('O','X')\n",
    "player_input()\n",
    "#In this cell,  I wrote a function that asks for first player input to be either X or O, and use this to determine who goes first. I used the not while loop incase the player insert an input different fro"
   ]
  },
  {
   "cell_type": "code",
   "execution_count": 4,
   "metadata": {
    "scrolled": true
   },
   "outputs": [
    {
     "name": "stdout",
     "output_type": "stream",
     "text": [
      "   |   |\n",
      " X | O | X\n",
      "   |   |\n",
      "-----------\n",
      "   |   |\n",
      " O | X | @\n",
      "   |   |\n",
      "-----------\n",
      "   |   |\n",
      " X | O | X\n",
      "   |   |\n"
     ]
    }
   ],
   "source": [
    "def insert_cursor(board, cursor, position):\n",
    "    board[position] = cursor\n",
    "insert_cursor(run_board, '@', 6)\n",
    "display_board(run_board)\n",
    "#In this cell, I decided to ensure my board can be modified and test to ensure no error messages."
   ]
  },
  {
   "cell_type": "code",
   "execution_count": 5,
   "metadata": {},
   "outputs": [
    {
     "data": {
      "text/plain": [
       "True"
      ]
     },
     "execution_count": 5,
     "metadata": {},
     "output_type": "execute_result"
    }
   ],
   "source": [
    "def check_winner(board, cursor):\n",
    "    ''' To check for winner, I need to check if there are three matching inputs (Xs or Os) in each row, or columns, or diagonally'''\n",
    "    return ((board[7] == board[8] == board[9] == cursor) or #first row\n",
    "            (board[4] == board[5] == board[6] == cursor) or #second row\n",
    "            (board[1] == board[2] == board[3] == cursor) or #third row\n",
    "            (board[7] == board[4] == board[1] == cursor) or #first column\n",
    "            (board[8] == board[5] == board[2] == cursor) or #second column\n",
    "            (board[9] == board[6] == board[3] == cursor) or #third column\n",
    "            (board[1] == board[5] == board[9] == cursor) or #Diagonally\n",
    "            (board[3] == board[5] == board[7] == cursor)) #Diagonally\n",
    "check_winner(run_board, 'X')\n",
    "#In this cell, I decided to reference the previous cell in which there are three matching cursor diagonally to test the output of my function. This should return True if X is checked, and False if O is checked."
   ]
  },
  {
   "cell_type": "code",
   "execution_count": 6,
   "metadata": {},
   "outputs": [],
   "source": [
    "def random_player():\n",
    "    if random.randint(0,1) == 0:\n",
    "        return 'Second Player'\n",
    "    else:\n",
    "        return 'First Player'\n",
    "#I used the imported random to decide which of the player is going first since this module will give a random integer between 0 and 1\n",
    "    \n",
    "\n",
    "def space (board, position):\n",
    "    return board[position] == ' '\n",
    "#I used this function to know  the space available on the board.\n",
    "\n",
    "def availability (board):\n",
    "    for k in range (1,10):\n",
    "        if space(board,k):\n",
    "            return False\n",
    "    return True\n",
    "#I used this function to determine if the board is full. this function can help to know if the board is full especially if the game is tie. \n"
   ]
  },
  {
   "cell_type": "code",
   "execution_count": 7,
   "metadata": {},
   "outputs": [],
   "source": [
    "def player_choice(board):\n",
    "    position = 0\n",
    "    while position not in [1,2,3,4,5,6,7,8,9] or not space(board, position):\n",
    "        position = int(input('Choose your next position from: 1-9'))\n",
    "    return position\n",
    "#This function ask the player to choose their next position from  1 to 9, and the function further checks to see that the position or space is not occupied. If the posiiton is empty, the position is return for later use."
   ]
  },
  {
   "cell_type": "code",
   "execution_count": 8,
   "metadata": {},
   "outputs": [],
   "source": [
    "def play_again():\n",
    "    return input(\"Do you want to play again? Enter 'Yes' or 'No' \").capitalize()\n",
    "#The function asks if the player(s) want to play again"
   ]
  },
  {
   "cell_type": "code",
   "execution_count": null,
   "metadata": {
    "collapsed": true
   },
   "outputs": [
    {
     "name": "stdout",
     "output_type": "stream",
     "text": [
      "   |   |\n",
      "   |   |  \n",
      "   |   |\n",
      "-----------\n",
      "   |   |\n",
      "   |   |  \n",
      "   |   |\n",
      "-----------\n",
      "   |   |\n",
      "   |   |  \n",
      "   |   |\n"
     ]
    }
   ],
   "source": [
    "print ('Welcome to the Tic Tac Toe Game!')\n",
    "while True:\n",
    "    clear_board = [' '] * 10\n",
    "    first_player, second_player = player_input()\n",
    "    player = random_player()\n",
    "    print (player + ' will play first')\n",
    "    \n",
    "    game_start = input(\"Are you ready to play? Enter 'Yes' or 'No' \")\n",
    "    if game_start.capitalize() == 'Yes':\n",
    "        game = True\n",
    "    else:\n",
    "        game = False\n",
    "        \n",
    "    while game:\n",
    "        if player == 'First player':\n",
    "            display_board(clear_board)\n",
    "            position = player_choice(clear_board)\n",
    "            insert_cursor(clear_board, first_player, position)\n",
    "            \n",
    "            if check_winner(clear_board, first_player):\n",
    "                display_board(clear_board)\n",
    "                print ('Congratulations, You have won the Game!')\n",
    "                game = False\n",
    "            else:\n",
    "                if availability(clear_board):\n",
    "                    display_board(clear_board)\n",
    "                    print('The game is a tie!')\n",
    "                    break\n",
    "                else:\n",
    "                    player = 'Second player'\n",
    "        else:\n",
    "            display_board(clear_board)\n",
    "            position = player_choice(clear_board)\n",
    "            insert_cursor(clear_board, second_player, position)\n",
    "            \n",
    "            if check_winner(clear_board, second_player):\n",
    "                display_board(clear_board)\n",
    "                print ('Congratulations, Second Player has won the Game!')\n",
    "                game = False\n",
    "            else:\n",
    "                if availability(clear_board):\n",
    "                    display_board(clear_board)\n",
    "                    print('The game is a tie!')\n",
    "                    break\n",
    "                else:\n",
    "                    player = 'First player'\n",
    "                    \n",
    "    if not play_again():\n",
    "            break"
   ]
  }
 ],
 "metadata": {
  "kernelspec": {
   "display_name": "Python 3",
   "language": "python",
   "name": "python3"
  },
  "language_info": {
   "codemirror_mode": {
    "name": "ipython",
    "version": 3
   },
   "file_extension": ".py",
   "mimetype": "text/x-python",
   "name": "python",
   "nbconvert_exporter": "python",
   "pygments_lexer": "ipython3",
   "version": "3.6.4"
  }
 },
 "nbformat": 4,
 "nbformat_minor": 2
}
