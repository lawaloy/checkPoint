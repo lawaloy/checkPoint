{
 "cells": [
  {
   "cell_type": "code",
   "execution_count": 1,
   "metadata": {},
   "outputs": [
    {
     "name": "stdout",
     "output_type": "stream",
     "text": [
      "4\n"
     ]
    }
   ],
   "source": [
    "print (round(3.6))"
   ]
  },
  {
   "cell_type": "code",
   "execution_count": 2,
   "metadata": {},
   "outputs": [
    {
     "name": "stdout",
     "output_type": "stream",
     "text": [
      "4\n"
     ]
    }
   ],
   "source": [
    "print (round(3.5))"
   ]
  },
  {
   "cell_type": "code",
   "execution_count": 3,
   "metadata": {},
   "outputs": [
    {
     "data": {
      "text/plain": [
       "3"
      ]
     },
     "execution_count": 3,
     "metadata": {},
     "output_type": "execute_result"
    }
   ],
   "source": [
    "from math import *\n",
    "floor(3.5)"
   ]
  },
  {
   "cell_type": "code",
   "execution_count": null,
   "metadata": {},
   "outputs": [
    {
     "data": {
      "text/plain": [
       "6.0"
      ]
     },
     "execution_count": 4,
     "metadata": {},
     "output_type": "execute_result"
    }
   ],
   "source": [
    "sqrt(36)"
   ]
  },
  {
   "cell_type": "code",
   "execution_count": null,
   "metadata": {},
   "outputs": [],
   "source": [
    "key = input ('What is your first number? ')\n",
    "num = input (\"what is your lucky numer? \")\n",
    "total = int(key) + float (num)\n",
    "print (total)"
   ]
  },
  {
   "cell_type": "code",
   "execution_count": 1,
   "metadata": {},
   "outputs": [
    {
     "name": "stdout",
     "output_type": "stream",
     "text": [
      "print is your first number? 25\n",
      "what is your lucky number? 2\n",
      "2525\n"
     ]
    }
   ],
   "source": [
    "key = input ('print is your first number? ')\n",
    "num = input (\"what is your lucky number? \")\n",
    "total = str(key) * int (num)\n",
    "print (total)"
   ]
  },
  {
   "cell_type": "code",
   "execution_count": null,
   "metadata": {},
   "outputs": [],
   "source": [
    "key = input ('print is your first number? ')\n",
    "num = input (\"what is your lucky number? \")\n",
    "total = (key) + int (num)\n",
    "print (total)"
   ]
  },
  {
   "cell_type": "code",
   "execution_count": null,
   "metadata": {},
   "outputs": [],
   "source": [
    "print('hello world')"
   ]
  },
  {
   "cell_type": "code",
   "execution_count": 1,
   "metadata": {},
   "outputs": [
    {
     "name": "stdout",
     "output_type": "stream",
     "text": [
      "['kelvin', 'kaine', 'karen']\n"
     ]
    }
   ],
   "source": [
    "friends = ['kelvin', 'kaine', 'karen']\n",
    "print(list(friends))"
   ]
  },
  {
   "cell_type": "code",
   "execution_count": 208,
   "metadata": {},
   "outputs": [
    {
     "name": "stdout",
     "output_type": "stream",
     "text": [
      "karen\n"
     ]
    }
   ],
   "source": [
    "friends = ['kelvin', 'kaine', 'karen']\n",
    "print(friends[-1])\n",
    "#negative index always start from the right hand side."
   ]
  },
  {
   "cell_type": "code",
   "execution_count": 209,
   "metadata": {},
   "outputs": [
    {
     "name": "stdout",
     "output_type": "stream",
     "text": [
      "kelvin\n",
      "kaine\n",
      "karen\n"
     ]
    }
   ],
   "source": [
    "friends = ['kelvin', 'kaine', 'karen']\n",
    "for char in friends:\n",
    "    print(char)"
   ]
  },
  {
   "cell_type": "code",
   "execution_count": 2,
   "metadata": {},
   "outputs": [
    {
     "name": "stdout",
     "output_type": "stream",
     "text": [
      "9\n"
     ]
    }
   ],
   "source": [
    "python = int (9)\n",
    "print (python)"
   ]
  },
  {
   "cell_type": "code",
   "execution_count": 1,
   "metadata": {},
   "outputs": [
    {
     "name": "stdout",
     "output_type": "stream",
     "text": [
      "cars\n",
      "house\n",
      "kettle\n",
      "balloon\n",
      "1\n",
      "None\n",
      "kettle\n"
     ]
    }
   ],
   "source": [
    "myString = ['cars', 'house', 'kettle', 'balloon']\n",
    "for kay in myString:\n",
    "    print (kay)\n",
    "print(myString.index('house'))\n",
    "print(myString.sort())\n",
    "print(myString.pop())"
   ]
  },
  {
   "cell_type": "code",
   "execution_count": 42,
   "metadata": {},
   "outputs": [
    {
     "name": "stdout",
     "output_type": "stream",
     "text": [
      "c\n",
      "h\n",
      "k\n",
      "b\n"
     ]
    }
   ],
   "source": [
    "myString = ['cars', 'house', 'kettle', \"balloon\"]\n",
    "for kay in myString:\n",
    "    print (kay[:1])"
   ]
  },
  {
   "cell_type": "code",
   "execution_count": 43,
   "metadata": {},
   "outputs": [
    {
     "name": "stdout",
     "output_type": "stream",
     "text": [
      "hello Lawal, you are 25 yrs old\n"
     ]
    }
   ],
   "source": [
    "def theLaw(name, age):\n",
    "    print('hello ' + name + \", you are\", age, 'yrs old')\n",
    "theLaw(\"Lawal\", 25)"
   ]
  },
  {
   "cell_type": "code",
   "execution_count": 32,
   "metadata": {},
   "outputs": [
    {
     "name": "stdout",
     "output_type": "stream",
     "text": [
      "3\n",
      "4\n",
      "5\n",
      "6\n",
      "7\n",
      "8\n",
      "9\n"
     ]
    }
   ],
   "source": [
    "a=1\n",
    "b=a+1\n",
    "c=a+b\n",
    "while c < 10:\n",
    "    print(c)\n",
    "    c += 1"
   ]
  },
  {
   "cell_type": "code",
   "execution_count": 48,
   "metadata": {},
   "outputs": [
    {
     "name": "stdout",
     "output_type": "stream",
     "text": [
      "1\n",
      "3\n",
      "5\n"
     ]
    }
   ],
   "source": [
    "\n",
    "a = 0 #increments with each loop\n",
    "c = 0\n",
    "\n",
    "while (c<4):\n",
    "    b = a+1\n",
    "    c = a+b\n",
    "    a += 1\n",
    "    print(c)"
   ]
  },
  {
   "cell_type": "code",
   "execution_count": 55,
   "metadata": {},
   "outputs": [],
   "source": [
    "a=1\n",
    "b=a+1\n",
    "c=a+b\n",
    "while c < 1:\n",
    "    a+=1\n",
    "    print(c)\n",
    "else:\n",
    "    print:(\"l\")"
   ]
  },
  {
   "cell_type": "code",
   "execution_count": null,
   "metadata": {},
   "outputs": [],
   "source": [
    "a=0\n",
    "\n",
    "while c==5:\n",
    "    b = a+1\n",
    "    c = a+b\n",
    "    a=+1\n",
    "    print (c)"
   ]
  },
  {
   "cell_type": "code",
   "execution_count": 51,
   "metadata": {},
   "outputs": [],
   "source": [
    "a = 0\n",
    "b= a+1\n",
    "c=a+b\n",
    "while c<1:\n",
    "    b=a+1\n",
    "    c+a+b\n",
    "    a=+1\n",
    "    print(c)"
   ]
  },
  {
   "cell_type": "code",
   "execution_count": 11,
   "metadata": {},
   "outputs": [
    {
     "name": "stdout",
     "output_type": "stream",
     "text": [
      "pop\n"
     ]
    }
   ],
   "source": [
    "print('pop')"
   ]
  },
  {
   "cell_type": "code",
   "execution_count": 45,
   "metadata": {
    "scrolled": true
   },
   "outputs": [],
   "source": [
    "class Person:\n",
    "    def _init_ (self, name, age):\n",
    "        self.name = name\n",
    "        self.age = age\n",
    "        p2 = Person(\"pop\", 87)\n",
    "        print (p2)\n",
    "        print (p2.age)"
   ]
  },
  {
   "cell_type": "code",
   "execution_count": 21,
   "metadata": {},
   "outputs": [
    {
     "ename": "TypeError",
     "evalue": "'module' object is not subscriptable",
     "output_type": "error",
     "traceback": [
      "\u001b[1;31m---------------------------------------------------------------------------\u001b[0m",
      "\u001b[1;31mTypeError\u001b[0m                                 Traceback (most recent call last)",
      "\u001b[1;32m<ipython-input-21-2c0efb6dc63c>\u001b[0m in \u001b[0;36m<module>\u001b[1;34m()\u001b[0m\n\u001b[0;32m      1\u001b[0m \u001b[1;32mimport\u001b[0m \u001b[0marray\u001b[0m \u001b[1;32mas\u001b[0m \u001b[0marr\u001b[0m\u001b[1;33m\u001b[0m\u001b[0m\n\u001b[1;32m----> 2\u001b[1;33m \u001b[0mnex\u001b[0m \u001b[1;33m=\u001b[0m \u001b[0marr\u001b[0m \u001b[1;33m[\u001b[0m\u001b[1;36m3\u001b[0m\u001b[1;33m,\u001b[0m \u001b[1;36m6\u001b[0m\u001b[1;33m,\u001b[0m \u001b[1;36m9\u001b[0m\u001b[1;33m]\u001b[0m\u001b[1;33m\u001b[0m\u001b[0m\n\u001b[0m\u001b[0;32m      3\u001b[0m \u001b[1;32mfor\u001b[0m \u001b[0marr\u001b[0m \u001b[1;32min\u001b[0m \u001b[0mnex\u001b[0m\u001b[1;33m:\u001b[0m\u001b[1;33m\u001b[0m\u001b[0m\n\u001b[0;32m      4\u001b[0m     \u001b[0mprint\u001b[0m \u001b[1;33m(\u001b[0m\u001b[1;33m(\u001b[0m\u001b[0mnex\u001b[0m\u001b[1;33m)\u001b[0m\u001b[1;33m/\u001b[0m\u001b[1;36m3\u001b[0m\u001b[1;33m)\u001b[0m\u001b[1;33m\u001b[0m\u001b[0m\n",
      "\u001b[1;31mTypeError\u001b[0m: 'module' object is not subscriptable"
     ]
    }
   ],
   "source": [
    "import array as arr\n",
    "nex = array [3, 6, 9]\n",
    "for arr in nex:\n",
    "    print ((nex)/3)"
   ]
  },
  {
   "cell_type": "code",
   "execution_count": 58,
   "metadata": {},
   "outputs": [
    {
     "data": {
      "text/plain": [
       "'Hello oluwaseyi'"
      ]
     },
     "execution_count": 58,
     "metadata": {},
     "output_type": "execute_result"
    }
   ],
   "source": [
    "def say_hello(Name = \"oluwaseyi\"):\n",
    "    return ('Hello '+ Name)\n",
    "say_hello()"
   ]
  },
  {
   "cell_type": "code",
   "execution_count": 62,
   "metadata": {},
   "outputs": [
    {
     "data": {
      "text/plain": [
       "False"
      ]
     },
     "execution_count": 62,
     "metadata": {},
     "output_type": "execute_result"
    }
   ],
   "source": [
    "#write a function to find out if the word 'kettle' is present in the string: I love to boil water using the hot mug\n",
    "def water_boil(findOut):\n",
    "    return \"kettle\" in findOut.lower()\n",
    "water_boil('I love to boil water using the hot mug')\n"
   ]
  },
  {
   "cell_type": "code",
   "execution_count": 68,
   "metadata": {},
   "outputs": [
    {
     "data": {
      "text/plain": [
       "True"
      ]
     },
     "execution_count": 68,
     "metadata": {},
     "output_type": "execute_result"
    }
   ],
   "source": [
    "#write a function to find out if the word 'kettle' is present in the string: I love to boil water using the kettle mug\n",
    "def water_boil(findOut):\n",
    "    return \"kettle\" in findOut.lower()\n",
    "water_boil('I love to boil water using the kettle mug')\n"
   ]
  },
  {
   "cell_type": "code",
   "execution_count": 69,
   "metadata": {},
   "outputs": [
    {
     "data": {
      "text/plain": [
       "'ettlekay'"
      ]
     },
     "execution_count": 69,
     "metadata": {},
     "output_type": "execute_result"
    }
   ],
   "source": [
    "#if word starts with a vowel, add 'ay' to end. If word does not start with a vowel, put first letter at the end, then add 'ay'. Example: 'kettle = 'ettlekay'\n",
    "def senTen (words):\n",
    "    first_letter = words[0]\n",
    "    if first_letter == 'aeiou':\n",
    "        return (words + 'ay')\n",
    "    else:\n",
    "        return (words[1:] + words[0] +'ay')\n",
    "words = 'kettle'\n",
    "senTen(words)"
   ]
  },
  {
   "cell_type": "code",
   "execution_count": 71,
   "metadata": {},
   "outputs": [
    {
     "data": {
      "text/plain": [
       "'ddressaay'"
      ]
     },
     "execution_count": 71,
     "metadata": {},
     "output_type": "execute_result"
    }
   ],
   "source": [
    "#if word starts with a vowel, add 'ay' to end. If word does not start with a vowel, put first letter at the end, then add 'ay'. Example: 'address' = 'addressay'\n",
    "def senTen (words):\n",
    "    first_letter = words[0]\n",
    "    if first_letter == 'aeiou':\n",
    "        addre = (words + 'ay')\n",
    "    else:\n",
    "        addre = (words[1:] + words[0] +'ay')\n",
    "    return addre\n",
    "senTen('address')"
   ]
  },
  {
   "cell_type": "code",
   "execution_count": 80,
   "metadata": {},
   "outputs": [
    {
     "name": "stdout",
     "output_type": "stream",
     "text": [
      "Hello asa\n"
     ]
    }
   ],
   "source": [
    "def func (Name = 'ada'):\n",
    "    print ('Hello {}'.format('asa'))\n",
    "func()\n",
    "#I formatted 'asa' to replace 'ada' in the function called."
   ]
  },
  {
   "cell_type": "code",
   "execution_count": 98,
   "metadata": {},
   "outputs": [
    {
     "data": {
      "text/plain": [
       "'x'"
      ]
     },
     "execution_count": 98,
     "metadata": {},
     "output_type": "execute_result"
    }
   ],
   "source": [
    "z = True\n",
    "def myfunc(z):\n",
    "    if z == True:\n",
    "        return 'x'\n",
    "    elif z == False:\n",
    "        return 'y'\n",
    "    else:\n",
    "        return 'lol'\n",
    "myfunc(z)"
   ]
  },
  {
   "cell_type": "code",
   "execution_count": 99,
   "metadata": {},
   "outputs": [
    {
     "data": {
      "text/plain": [
       "'y'"
      ]
     },
     "execution_count": 99,
     "metadata": {},
     "output_type": "execute_result"
    }
   ],
   "source": [
    "z = False\n",
    "def myfunc(z):\n",
    "    if z == True:\n",
    "        return 'x'\n",
    "    elif z == False:\n",
    "        return 'y'\n",
    "    else:\n",
    "        return 'lol'\n",
    "myfunc(z)"
   ]
  },
  {
   "cell_type": "code",
   "execution_count": 103,
   "metadata": {},
   "outputs": [
    {
     "data": {
      "text/plain": [
       "'lol'"
      ]
     },
     "execution_count": 103,
     "metadata": {},
     "output_type": "execute_result"
    }
   ],
   "source": [
    "z = 'sas'\n",
    "def myfunc(z):\n",
    "    if z == True:\n",
    "        return 'x'\n",
    "    elif z == False:\n",
    "        return 'y'\n",
    "    else:\n",
    "        return 'lol'\n",
    "myfunc(z)"
   ]
  },
  {
   "cell_type": "code",
   "execution_count": 109,
   "metadata": {},
   "outputs": [
    {
     "data": {
      "text/plain": [
       "9"
      ]
     },
     "execution_count": 109,
     "metadata": {},
     "output_type": "execute_result"
    }
   ],
   "source": [
    "def fun_cal(*args):\n",
    "    return sum(args)\n",
    "fun_cal(2,3,4)\n",
    "#the * shows that i can always pass in as many numbers as i want. Also, 'args' can be any variable, so i can used any word i like to replace 'args'"
   ]
  },
  {
   "cell_type": "code",
   "execution_count": 128,
   "metadata": {},
   "outputs": [
    {
     "data": {
      "text/plain": [
       "[2, 4, 6]"
      ]
     },
     "execution_count": 128,
     "metadata": {},
     "output_type": "execute_result"
    }
   ],
   "source": [
    "#Define a function called func that takes in an arbitary number of arguements, and returns a list containing only those arguements that are even\n",
    "listEven = []\n",
    "def func(*args):\n",
    "    for num in args:\n",
    "        if num % 2 == 0:\n",
    "            listEven.append(num)\n",
    "    return listEven\n",
    "func(2,4,5,6)"
   ]
  },
  {
   "cell_type": "code",
   "execution_count": 139,
   "metadata": {},
   "outputs": [
    {
     "data": {
      "text/plain": [
       "'o'"
      ]
     },
     "execution_count": 139,
     "metadata": {},
     "output_type": "execute_result"
    }
   ],
   "source": [
    "# Define a function called myfunc that takes in a string, and returns a matching string where every even letter is uppercase, and every odd letter is lowercase. Assume that the incoming string only contains letters, and don't worry about numbers, paces or punctuation. The output string can start with either uppercse or lowercase letter, so long as letters alternate throughout the string.\n",
    "def myfunc(string):\n",
    "    word = ''\n",
    "    for num in range(len(string)):\n",
    "        if (num)%2 == 0:\n",
    "            word += string[num].upper()\n",
    "        else:\n",
    "            word += string[num].lower()\n",
    "    return word\n",
    "myfunc('develop')"
   ]
  },
  {
   "cell_type": "code",
   "execution_count": 148,
   "metadata": {},
   "outputs": [
    {
     "data": {
      "text/plain": [
       "2"
      ]
     },
     "execution_count": 148,
     "metadata": {},
     "output_type": "execute_result"
    }
   ],
   "source": [
    "#write a function that returns the lesser of two given numbers if both numbers are even, but returns the greater if both numbers are odd.\n",
    "def given_num(a,b):\n",
    "    if a%2 == 0 and b%2 == 0:\n",
    "        return min(a,b)\n",
    "    else:\n",
    "        return max(a,b)\n",
    "given_num(2,4)"
   ]
  },
  {
   "cell_type": "code",
   "execution_count": 146,
   "metadata": {},
   "outputs": [
    {
     "data": {
      "text/plain": [
       "4"
      ]
     },
     "execution_count": 146,
     "metadata": {},
     "output_type": "execute_result"
    }
   ],
   "source": [
    "max(1,2,3,4)"
   ]
  },
  {
   "cell_type": "code",
   "execution_count": 153,
   "metadata": {},
   "outputs": [
    {
     "data": {
      "text/plain": [
       "False"
      ]
     },
     "execution_count": 153,
     "metadata": {},
     "output_type": "execute_result"
    }
   ],
   "source": [
    "#Write a function that takes two different names and returns True if both names begin with the same letter.\n",
    "def two_word(name1,name2):\n",
    "    if name1[0].lower() == name2[0].lower():\n",
    "        return True\n",
    "    else:\n",
    "        return False\n",
    "two_word('greg', 'loria')"
   ]
  },
  {
   "cell_type": "code",
   "execution_count": 167,
   "metadata": {},
   "outputs": [
    {
     "data": {
      "text/plain": [
       "True"
      ]
     },
     "execution_count": 167,
     "metadata": {},
     "output_type": "execute_result"
    }
   ],
   "source": [
    "#Write a function that takes  two-word strings and returns True if both word begin with the same letter.\n",
    "def twoWord(strinGin):\n",
    "    strin = strinGin.split()\n",
    "    if strin[0][0].lower() == strin[1][0].lower():\n",
    "        return True\n",
    "    else:\n",
    "        return False\n",
    "twoWord('lion Like')"
   ]
  },
  {
   "cell_type": "code",
   "execution_count": 176,
   "metadata": {},
   "outputs": [
    {
     "data": {
      "text/plain": [
       "False"
      ]
     },
     "execution_count": 176,
     "metadata": {},
     "output_type": "execute_result"
    }
   ],
   "source": [
    "#Given two integers, return True if the sum of the integers is 20 or if one of the integers is 20. If not, return False.\n",
    "def two_num(a,b):\n",
    "    return a == 20 or b == 20 or a+b == 20\n",
    "two_num(10,0)"
   ]
  },
  {
   "cell_type": "code",
   "execution_count": 181,
   "metadata": {},
   "outputs": [
    {
     "data": {
      "text/plain": [
       "'OluWaseyi'"
      ]
     },
     "execution_count": 181,
     "metadata": {},
     "output_type": "execute_result"
    }
   ],
   "source": [
    "#Write a function that capitalize the first and fourth letters of a name\n",
    "def func (name):\n",
    "    first_three = name[0:3]\n",
    "    rest_letters = name[3:]\n",
    "    return first_three.capitalize() + rest_letters.capitalize()\n",
    "func('oluwaseyi')    "
   ]
  },
  {
   "cell_type": "code",
   "execution_count": 186,
   "metadata": {},
   "outputs": [
    {
     "data": {
      "text/plain": [
       "'home am I'"
      ]
     },
     "execution_count": 186,
     "metadata": {},
     "output_type": "execute_result"
    }
   ],
   "source": [
    "#Given a sentence \"I am home\", return a sentence with the words reversed\n",
    "def given (senGen):\n",
    "    dammy = senGen.split()\n",
    "    return dammy[2] + ' '+ dammy[1] + ' '+ dammy[0]\n",
    "given('I am home')"
   ]
  },
  {
   "cell_type": "code",
   "execution_count": 207,
   "metadata": {},
   "outputs": [
    {
     "data": {
      "text/plain": [
       "'boy smart a is Daniel'"
      ]
     },
     "execution_count": 207,
     "metadata": {},
     "output_type": "execute_result"
    }
   ],
   "source": [
    "#Given a sentence \"Daniel is a smart boy\", return a sentence with the words reversed\n",
    "def list_reversed(given):\n",
    "    senTen = given.split()\n",
    "    reversed_word = senTen[::-1]\n",
    "    return ' '.join(reversed_word)\n",
    "list_reversed('Daniel is a smart boy')"
   ]
  },
  {
   "cell_type": "code",
   "execution_count": 214,
   "metadata": {},
   "outputs": [
    {
     "data": {
      "text/plain": [
       "True"
      ]
     },
     "execution_count": 214,
     "metadata": {},
     "output_type": "execute_result"
    }
   ],
   "source": [
    "#Given an integer n, return True if n is within 10 of either 100 or 200\n",
    "def num (n):\n",
    "    return (abs(100-n) <= 10) or (abs(200-n) <= 10)\n",
    "num(201)\n",
    "    "
   ]
  },
  {
   "cell_type": "code",
   "execution_count": null,
   "metadata": {},
   "outputs": [],
   "source": []
  }
 ],
 "metadata": {
  "kernelspec": {
   "display_name": "Python 3",
   "language": "python",
   "name": "python3"
  },
  "language_info": {
   "codemirror_mode": {
    "name": "ipython",
    "version": 3
   },
   "file_extension": ".py",
   "mimetype": "text/x-python",
   "name": "python",
   "nbconvert_exporter": "python",
   "pygments_lexer": "ipython3",
   "version": "3.6.4"
  }
 },
 "nbformat": 4,
 "nbformat_minor": 2
}
