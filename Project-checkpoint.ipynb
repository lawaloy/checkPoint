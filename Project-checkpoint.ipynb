{
 "cells": [
  {
   "cell_type": "code",
   "execution_count": 1,
   "metadata": {},
   "outputs": [],
   "source": [
    "import requests\n",
    "import urllib.request\n",
    "import time\n",
    "from bs4 import BeautifulSoup\n",
    "import pandas as pd\n",
    "import numpy as np\n",
    "businessName=[] \n",
    "url = 'https://members.hamptonroadschamber.com/sbaweb/members/members.asp?&id=1&wpid=-101&kwaction=1&kwwhere=[NEW]&newsession=FALSE&sid=119858852'\n",
    "response = requests.get(url)\n",
    "soup = BeautifulSoup(response.text, \"html.parser\")\n",
    "soup.findAll('a')\n",
    "for a in soup.findAll('a',href=True, attrs={'class': 'sbaLinkMenu'}):\n",
    "    name = a.find('div', attrs = {'class': 'body'})\n",
    "    businessName.append(name.text)\n",
    "    \n",
    "df = pd.DataFrame({'BusinessName': businessName})\n",
    "df.to_csv('businessName.csv', index = False, encoding = 'utf-8')\n"
   ]
  },
  {
   "cell_type": "code",
   "execution_count": null,
   "metadata": {},
   "outputs": [],
   "source": [
    "import requests\n",
    "import urllib.request\n",
    "from bs4 import BeautifulSoup\n",
    "from selenium import webdriver\n",
    "import pandas as pd\n",
    "import numpy as np\n",
    "driver = webdriver.chrome('C:\\Program Files (x86)\\Google\\Chrome\\Application')\n",
    "businessName=[] \n",
    "\n",
    "\n",
    "url = 'https://members.hamptonroadschamber.com/sbaweb/members/members.asp?&id=1&wpid=-101&kwaction=1&kwwhere=[NEW]&newsession=FALSE&sid=119858852'\n",
    "response = requests.get(url)\n",
    "soup = BeautifulSoup(response.text, \"html.parser\")\n",
    "for a in soup.findAll('a',href=True, attrs={'class': 'sbaLinkMenu'}):\n",
    "    name = a.find('div', attrs = {'class': 'body'})\n",
    "    businessName.append(name.text)\n",
    "    \n",
    "\n",
    "df = pd.DataFrame({'BusinessName': businessName})\n",
    "df.to_csv('businessName.csv', index = False, encoding = 'utf-8')"
   ]
  }
 ],
 "metadata": {
  "kernelspec": {
   "display_name": "Python 3",
   "language": "python",
   "name": "python3"
  },
  "language_info": {
   "codemirror_mode": {
    "name": "ipython",
    "version": 3
   },
   "file_extension": ".py",
   "mimetype": "text/x-python",
   "name": "python",
   "nbconvert_exporter": "python",
   "pygments_lexer": "ipython3",
   "version": "3.6.4"
  }
 },
 "nbformat": 4,
 "nbformat_minor": 2
}
