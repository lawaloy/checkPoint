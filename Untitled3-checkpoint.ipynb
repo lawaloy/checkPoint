{
 "cells": [
  {
   "cell_type": "code",
   "execution_count": 2,
   "metadata": {},
   "outputs": [
    {
     "data": {
      "text/plain": [
       "'BUST'"
      ]
     },
     "execution_count": 2,
     "metadata": {},
     "output_type": "execute_result"
    }
   ],
   "source": [
    "#Given three integers between 1 and 11, if their sum is less than or equal to 21, return their sum. If their sum exceeds 21 and there's an 11, reduce the total sum by 10. Finally if the sum (even after adjustment) exceeds 21, return 'BUST'\n",
    "def given (a,b,c):\n",
    "    if a+b+c <= 21:\n",
    "        return a+b+c\n",
    "    if a+b+c > 21 and a==11 or b==11 or c==11:\n",
    "        return ((a+b+c) - 10)\n",
    "    else:\n",
    "        return \"BUST\"\n",
    "given(10,10,10)"
   ]
  },
  {
   "cell_type": "code",
   "execution_count": 3,
   "metadata": {},
   "outputs": [
    {
     "data": {
      "text/plain": [
       "False"
      ]
     },
     "execution_count": 3,
     "metadata": {},
     "output_type": "execute_result"
    }
   ],
   "source": [
    "#Given a list of ints, return True if the array contains a 3 next to a 3 somewhere\n",
    "def list_int(num):\n",
    "    for i in range(0,len(num)-1):\n",
    "        if num[i] == 3 and num[i+1] == 3:\n",
    "            return True\n",
    "    return False\n",
    "list_int([2,3,5,3,8,7])"
   ]
  },
  {
   "cell_type": "code",
   "execution_count": 4,
   "metadata": {},
   "outputs": [
    {
     "name": "stdout",
     "output_type": "stream",
     "text": [
      "5\n"
     ]
    }
   ],
   "source": [
    "num = [1,2,3,4,5,7,6]\n",
    "print (num[4])"
   ]
  },
  {
   "cell_type": "code",
   "execution_count": 5,
   "metadata": {},
   "outputs": [
    {
     "data": {
      "text/plain": [
       "'aaadddaaa'"
      ]
     },
     "execution_count": 5,
     "metadata": {},
     "output_type": "execute_result"
    }
   ],
   "source": [
    "# Given a string, return a string where for every character in the original there are three characters\n",
    "def letterhead (characters):\n",
    "    result = ''\n",
    "    for letters in (characters):\n",
    "        result += letters * 3\n",
    "    return result\n",
    "letterhead ('ada')"
   ]
  },
  {
   "cell_type": "code",
   "execution_count": 6,
   "metadata": {},
   "outputs": [
    {
     "data": {
      "text/plain": [
       "16"
      ]
     },
     "execution_count": 6,
     "metadata": {},
     "output_type": "execute_result"
    }
   ],
   "source": [
    "#Given three integers between 1 and 11, if their sum is less than or equal to 21, return their sum. If their sum exceeds 21 and there is an 11, reduce the total sum by 10. Finally, if the sum (even after adjustment) exceeds 21, return 'BUST'.\n",
    "def blackJack (a,b,c):\n",
    "    if sum([a,b,c]) <=21:\n",
    "        return sum([a,b,c])\n",
    "    elif 11 in [a,b,c] and sum([a,b,c]) <=31:\n",
    "        return sum([a,b,c]) - 10\n",
    "    else:\n",
    "        return 'BUST'\n",
    "blackJack(5,11,10)"
   ]
  },
  {
   "cell_type": "code",
   "execution_count": 7,
   "metadata": {},
   "outputs": [
    {
     "data": {
      "text/plain": [
       "9"
      ]
     },
     "execution_count": 7,
     "metadata": {},
     "output_type": "execute_result"
    }
   ],
   "source": [
    "sum([2,3,4])"
   ]
  },
  {
   "cell_type": "code",
   "execution_count": 8,
   "metadata": {},
   "outputs": [
    {
     "data": {
      "text/plain": [
       "3"
      ]
     },
     "execution_count": 8,
     "metadata": {},
     "output_type": "execute_result"
    }
   ],
   "source": [
    "#Return the sum of the numbers in the array, except ignore sections of numbers starting with a 6 and extending to the next 9 (every 6 will be followed by at least one 9). Return 0 for no numbers.\n",
    "def sum_numbers(arr):\n",
    "    total = 0\n",
    "    add = True\n",
    "    for num in arr:\n",
    "        while add:\n",
    "            if num != 6:\n",
    "                total += num\n",
    "                break\n",
    "            else:\n",
    "                add = False\n",
    "        while not add:\n",
    "            if num != 9:\n",
    "                break\n",
    "            else:\n",
    "                add = True\n",
    "                break\n",
    "    return total\n",
    "sum_numbers([2,6,6,9,6,9,1])"
   ]
  },
  {
   "cell_type": "code",
   "execution_count": 9,
   "metadata": {},
   "outputs": [
    {
     "data": {
      "text/plain": [
       "True"
      ]
     },
     "execution_count": 9,
     "metadata": {},
     "output_type": "execute_result"
    }
   ],
   "source": [
    "#SPY GAME: Write  function that takes in a list of integers and returns True if it contains 007 in order.\n",
    "def spy_game(nums):\n",
    "    code = [0,0,7,'x']\n",
    "    for num in nums:\n",
    "        if num == code[0]:\n",
    "            code.pop(0)\n",
    "    return len(code) == 1\n",
    "#In this spy_game, you will need to pop out each number (0,0,7) as you encounter them in the list of array\n",
    "# [0,0,7,'x'] ............ starting\n",
    "# [0,7,'x'] .............. after first popped out\n",
    "# [7,'x']  ............... after second popped out\n",
    "# ['x'] length = 1 after 0,0,7 is being popped out.\n",
    "spy_game([0,8,0,7,5,0,5,0,6,4,6,9])\n",
    "            "
   ]
  },
  {
   "cell_type": "code",
   "execution_count": 10,
   "metadata": {},
   "outputs": [
    {
     "data": {
      "text/plain": [
       "7"
      ]
     },
     "execution_count": 10,
     "metadata": {},
     "output_type": "execute_result"
    }
   ],
   "source": [
    "feef = [1,4,5,7,8]\n",
    "feef[-2]"
   ]
  },
  {
   "cell_type": "code",
   "execution_count": 11,
   "metadata": {},
   "outputs": [
    {
     "name": "stdout",
     "output_type": "stream",
     "text": [
      "[2, 3, 5, 7, 11, 13, 17, 19, 23]\n"
     ]
    },
    {
     "data": {
      "text/plain": [
       "9"
      ]
     },
     "execution_count": 11,
     "metadata": {},
     "output_type": "execute_result"
    }
   ],
   "source": [
    "#COUNT PRIMES: Write a function that returns the number of prime numbers that exist up to and including a given number.\n",
    "# Note: Treat 0 and 1 as not prime.\n",
    "def count_primes(num):\n",
    "    #check for 0 and 1 input\n",
    "    if num < 2:\n",
    "        return 0\n",
    "    #this is because 0 and 1 are considered non-prime\n",
    "    primes = [2] #we store our prime number here\n",
    "    x = 3\n",
    "    while x <= num:\n",
    "        for y in primes: #use the prime list\n",
    "            if x%y == 0:\n",
    "                x += 2\n",
    "                break\n",
    "        else:\n",
    "            primes.append(x)\n",
    "            x += 2\n",
    "    print(primes)\n",
    "    return len(primes)\n",
    "count_primes(23)"
   ]
  },
  {
   "cell_type": "code",
   "execution_count": 12,
   "metadata": {},
   "outputs": [
    {
     "name": "stdout",
     "output_type": "stream",
     "text": [
      "25\n"
     ]
    }
   ],
   "source": [
    "print (5**2)"
   ]
  },
  {
   "cell_type": "code",
   "execution_count": 13,
   "metadata": {},
   "outputs": [
    {
     "name": "stdout",
     "output_type": "stream",
     "text": [
      "1\n",
      "4\n",
      "9\n",
      "16\n"
     ]
    }
   ],
   "source": [
    "# Using the *map* function\n",
    "def square (num):\n",
    "    return num ** 2\n",
    "my_num = [1,2,3,4]\n",
    "for nums in map(square,my_num):\n",
    "    print (nums)\n",
    "#Iterating through my_num to produce the return statement"
   ]
  },
  {
   "cell_type": "code",
   "execution_count": 14,
   "metadata": {},
   "outputs": [
    {
     "data": {
      "text/plain": [
       "[1, 25, 64]"
      ]
     },
     "execution_count": 14,
     "metadata": {},
     "output_type": "execute_result"
    }
   ],
   "source": [
    "# Using the *map* function and print a list\n",
    "def square (num):\n",
    "    return num ** 2\n",
    "my_num = [1,5,8]\n",
    "list (map(square,my_num))"
   ]
  },
  {
   "cell_type": "code",
   "execution_count": 15,
   "metadata": {},
   "outputs": [
    {
     "data": {
      "text/plain": [
       "['EVEN', 'l']"
      ]
     },
     "execution_count": 15,
     "metadata": {},
     "output_type": "execute_result"
    }
   ],
   "source": [
    "#print out 'EVEN' if the lenth of the string is even, else print the second letter of the string.\n",
    "def name (my_string):\n",
    "    if len(my_string)%2 == 0:\n",
    "        return 'EVEN'\n",
    "    else:\n",
    "        return my_string[1]\n",
    "joktr = ['adet', 'Oluwaseyi']\n",
    "list (map(name,joktr))"
   ]
  },
  {
   "cell_type": "code",
   "execution_count": 16,
   "metadata": {},
   "outputs": [
    {
     "data": {
      "text/plain": [
       "'EVEN'"
      ]
     },
     "execution_count": 16,
     "metadata": {},
     "output_type": "execute_result"
    }
   ],
   "source": [
    "#print out 'EVEN' if the lenth of the string is even, else print the second letter of the string.\n",
    "def name (my_string):\n",
    "    if len(my_string)%2 == 0:\n",
    "        return 'EVEN'\n",
    "    else:\n",
    "        return my_string[1]\n",
    "joktr = 'Oluwaseyoi'\n",
    "(name(joktr))"
   ]
  },
  {
   "cell_type": "code",
   "execution_count": 17,
   "metadata": {},
   "outputs": [
    {
     "data": {
      "text/plain": [
       "16"
      ]
     },
     "execution_count": 17,
     "metadata": {},
     "output_type": "execute_result"
    }
   ],
   "source": [
    "kike = lambda num: num**2\n",
    "kike(4)"
   ]
  },
  {
   "cell_type": "code",
   "execution_count": 18,
   "metadata": {},
   "outputs": [
    {
     "data": {
      "text/plain": [
       "267.94666666666666"
      ]
     },
     "execution_count": 18,
     "metadata": {},
     "output_type": "execute_result"
    }
   ],
   "source": [
    "#write a function tha computes the volume of a sphere given its radius.\n",
    "def volume (x):\n",
    "    return (x**3)*(4/3)*(3.14)\n",
    "volume (4)\n",
    "# x is the radius"
   ]
  },
  {
   "cell_type": "code",
   "execution_count": 19,
   "metadata": {},
   "outputs": [
    {
     "data": {
      "text/plain": [
       "'Not Present'"
      ]
     },
     "execution_count": 19,
     "metadata": {},
     "output_type": "execute_result"
    }
   ],
   "source": [
    "#write a function that checks whether a number is in a given range (inclusive of high and low).\n",
    "def checks (num):\n",
    "    if num in range (1,10):\n",
    "        return (num)\n",
    "    else:\n",
    "        return 'Not Present'\n",
    "checks(0)"
   ]
  },
  {
   "cell_type": "code",
   "execution_count": 20,
   "metadata": {},
   "outputs": [
    {
     "data": {
      "text/plain": [
       "True"
      ]
     },
     "execution_count": 20,
     "metadata": {},
     "output_type": "execute_result"
    }
   ],
   "source": [
    "#write a function that checks whether a number is in a given range (inclusive of high and low).\n",
    "def number (num,low,high):\n",
    "    return num in range(low, high)\n",
    "number(5,4,10)"
   ]
  },
  {
   "cell_type": "code",
   "execution_count": 21,
   "metadata": {},
   "outputs": [
    {
     "name": "stdout",
     "output_type": "stream",
     "text": [
      "Original string is: Hello Mr. Rogers, how are you doing this fine Tuesday?\n",
      "No. of Upper case characters:  4\n",
      "No. of Lower case characters:  38\n"
     ]
    }
   ],
   "source": [
    "# Write a function that accepts a string and calculate the number of upper case letters and lower case letters.\n",
    "# Sample String: Hello Mr. Rogers, how are you doing this fine Tuesday?\n",
    "# No. of Upper case characters: 4\n",
    "# No. of Lower case characters: 33\n",
    "def up_low(letters):\n",
    "    d = {'upper': 0, 'lower': 0}\n",
    "    for k in letters:\n",
    "        if k.isupper():\n",
    "            d['upper']+= 1\n",
    "        elif k.islower():\n",
    "            d['lower']+= 1\n",
    "        else:\n",
    "            pass\n",
    "    print (\"Original string is:\", letters)\n",
    "    print ('No. of Upper case characters: ', d['upper'])\n",
    "    print ('No. of Lower case characters: ', d['lower'])\n",
    "letters = 'Hello Mr. Rogers, how are you doing this fine Tuesday?'\n",
    "up_low(letters)"
   ]
  },
  {
   "cell_type": "code",
   "execution_count": 22,
   "metadata": {},
   "outputs": [
    {
     "data": {
      "text/plain": [
       "[1, 2, 3, 4, 5]"
      ]
     },
     "execution_count": 22,
     "metadata": {},
     "output_type": "execute_result"
    }
   ],
   "source": [
    "# #Write a python function that takes a list and returns a new list with unique elements of the first list.\n",
    "# Sample List: [1,1,1,1,2,2,2,2,3,3,3,4,4,5,5]\n",
    "# Unique List: [1,2,3,4,5]\n",
    "def first_list(number):\n",
    "    hit = []\n",
    "    for num in number:\n",
    "        if num not in hit:\n",
    "            hit.append(num)\n",
    "    return hit\n",
    "first_list ([1,1,1,1,2,2,2,2,3,3,3,4,4,5,5])"
   ]
  },
  {
   "cell_type": "code",
   "execution_count": 23,
   "metadata": {},
   "outputs": [
    {
     "data": {
      "text/plain": [
       "-24"
      ]
     },
     "execution_count": 23,
     "metadata": {},
     "output_type": "execute_result"
    }
   ],
   "source": [
    "#Write a python function to multiply all the numbers in a list\n",
    "#Sample list: [1, 2, 3, -4]\n",
    "#Output: -24\n",
    "def sample_list(kay):\n",
    "    total = kay[0]\n",
    "    for num in kay:\n",
    "        total *= num\n",
    "    return total\n",
    "sample_list([1, 2, 3, -4])"
   ]
  },
  {
   "cell_type": "code",
   "execution_count": 24,
   "metadata": {},
   "outputs": [
    {
     "data": {
      "text/plain": [
       "True"
      ]
     },
     "execution_count": 24,
     "metadata": {},
     "output_type": "execute_result"
    }
   ],
   "source": [
    "# #Write a python function that checks whether a passed string is palindrome or not\n",
    "# NB: A palindrome is a word or sentence that reads the same backwards\n",
    "def senten(word):\n",
    "    if word.lower() == word.lower()[::-1]:\n",
    "        return True\n",
    "    else:\n",
    "        return False\n",
    "senten('lawaL')"
   ]
  },
  {
   "cell_type": "code",
   "execution_count": 25,
   "metadata": {},
   "outputs": [
    {
     "data": {
      "text/plain": [
       "True"
      ]
     },
     "execution_count": 25,
     "metadata": {},
     "output_type": "execute_result"
    }
   ],
   "source": [
    "#Write a python function to check whether a string is pangram or not.'\n",
    "# Pangrams are words or sentences containing every letter of the alphabet at least once.\n",
    "\n",
    "import string\n",
    "def is_Pangrams(str1, alphabet = string.ascii_lowercase):\n",
    "    alphaset = set(alphabet)\n",
    "    return alphaset <= set(str1.lower())\n",
    "is_Pangrams ('The quick brown fox jumps over the lazy dog')\n",
    "\n"
   ]
  },
  {
   "cell_type": "code",
   "execution_count": 26,
   "metadata": {},
   "outputs": [
    {
     "name": "stdout",
     "output_type": "stream",
     "text": [
      "abcdefghijklmnopqrstuvwxyz\n"
     ]
    }
   ],
   "source": [
    "print(string.ascii_lowercase)"
   ]
  },
  {
   "cell_type": "code",
   "execution_count": 1,
   "metadata": {},
   "outputs": [
    {
     "name": "stdout",
     "output_type": "stream",
     "text": [
      "wjd? kik\n",
      "wjd? ad\n",
      "ik\n"
     ]
    }
   ],
   "source": [
    "keie = 'ada'\n",
    "while keie != 'ad':\n",
    "    keie = input ('wjd? ')\n",
    "print(\"ik\")"
   ]
  },
  {
   "cell_type": "code",
   "execution_count": null,
   "metadata": {},
   "outputs": [],
   "source": []
  },
  {
   "cell_type": "code",
   "execution_count": null,
   "metadata": {},
   "outputs": [],
   "source": []
  }
 ],
 "metadata": {
  "kernelspec": {
   "display_name": "Python 3",
   "language": "python",
   "name": "python3"
  },
  "language_info": {
   "codemirror_mode": {
    "name": "ipython",
    "version": 3
   },
   "file_extension": ".py",
   "mimetype": "text/x-python",
   "name": "python",
   "nbconvert_exporter": "python",
   "pygments_lexer": "ipython3",
   "version": "3.6.4"
  }
 },
 "nbformat": 4,
 "nbformat_minor": 2
}
